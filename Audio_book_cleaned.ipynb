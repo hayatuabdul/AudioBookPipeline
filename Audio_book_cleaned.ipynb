{
 "cells": [
  {
   "cell_type": "code",
   "execution_count": 65,
   "id": "7a11d720",
   "metadata": {},
   "outputs": [],
   "source": [
    "import pandas as pd\n",
    "import re"
   ]
  },
  {
   "cell_type": "code",
   "execution_count": 66,
   "id": "170e8f32",
   "metadata": {},
   "outputs": [],
   "source": [
    "# Load the csv file into audio_book variable\n",
    "audio_book = pd.read_csv('project_dataset.csv')"
   ]
  },
  {
   "cell_type": "code",
   "execution_count": 67,
   "id": "36f0eabb",
   "metadata": {},
   "outputs": [],
   "source": [
    "# Function that cleans Author name\n",
    "def author_clean():\n",
    "    audio_book['author'] = audio_book['author'].str.replace('Writtenby:', '')\n",
    "    audio_book['author'] = audio_book['author'].str.replace(r'([a-z])([A-Z])', r'\\1 \\2', regex=True)"
   ]
  },
  {
   "cell_type": "code",
   "execution_count": 68,
   "id": "4e03ebf9",
   "metadata": {},
   "outputs": [],
   "source": [
    "# Function that cleans Narrator name\n",
    "def narrator_clean():\n",
    "    audio_book['narrator'] = audio_book['narrator'].str.replace('Narratedby:', '')\n",
    "    audio_book['narrator'] = audio_book['narrator'].str.replace(r'([a-z])([A-Z])', r'\\1 \\2', regex=True)"
   ]
  },
  {
   "cell_type": "code",
   "execution_count": 69,
   "id": "ab4cdf8b",
   "metadata": {},
   "outputs": [],
   "source": [
    "# Function that converts hours into minutes\n",
    "def minutes():\n",
    "    audio_book['hours'] = pd.to_numeric(audio_book['time'].str.extract(r'(\\d+) hr')[0], errors='coerce').fillna(0).astype(int)\n",
    "    audio_book['temp_minutes'] = pd.to_numeric(audio_book['time'].str.extract(r'(\\d+) min')[0], errors='coerce').fillna(0).astype(int)\n",
    "    audio_book['minutes'] = audio_book['hours'] * 60 + audio_book['temp_minutes']\n",
    "    audio_book.drop(columns=['hours', 'temp_minutes'], inplace=True)"
   ]
  },
  {
   "cell_type": "code",
   "execution_count": 70,
   "id": "1f8a399a",
   "metadata": {},
   "outputs": [],
   "source": [
    "# Function that validates date as right format\n",
    "def release_date():\n",
    "    audio_book['releasedate'] = pd.to_datetime(audio_book['releasedate'], errors='coerce')"
   ]
  },
  {
   "cell_type": "code",
   "execution_count": 71,
   "id": "8fe16256",
   "metadata": {},
   "outputs": [],
   "source": [
    "# Function that finds and extracts the float value of the rating\n",
    "def extract_rating(r):\n",
    "    if \" out of \" in r:\n",
    "        parts = r.split()\n",
    "        for part in parts:\n",
    "            try:\n",
    "                rating = float(part)\n",
    "                return rating\n",
    "            except ValueError:\n",
    "                pass\n",
    "\n",
    "    try:\n",
    "        rating = float(r)\n",
    "        return rating\n",
    "    except ValueError:\n",
    "        return 'Not rated yet'\n",
    "    \n",
    "\n",
    "def rating():\n",
    "    audio_book['rating']  = audio_book['stars'].apply(lambda x: extract_rating(x))"
   ]
  },
  {
   "cell_type": "code",
   "execution_count": 72,
   "id": "d9dbf90d",
   "metadata": {},
   "outputs": [],
   "source": [
    "# Function that exracts total number of ratings from the star column\n",
    "def extract_number_from_string(s):\n",
    "    pattern = r'\\d+' \n",
    "    matches = re.findall(pattern, s)\n",
    "    return int(matches[-1]) if matches else 'Not rated yet'\n",
    "\n",
    "\n",
    "def no_of_rating():\n",
    "    audio_book['number_of_ratings']  = audio_book['stars'].apply(lambda x: extract_number_from_string(x))"
   ]
  },
  {
   "cell_type": "code",
   "execution_count": 73,
   "id": "c5808f5c",
   "metadata": {},
   "outputs": [],
   "source": [
    "# Function that converts price column data to float\n",
    "def convert_to_float(value):\n",
    "    try:\n",
    "        return pd.to_numeric(value.replace(',', ''))\n",
    "    except ValueError:\n",
    "        return value\n",
    "\n",
    "def price_to_float():\n",
    "    audio_book['price'] = audio_book['price'].apply(convert_to_float)"
   ]
  },
  {
   "cell_type": "code",
   "execution_count": 74,
   "id": "d8623ce6",
   "metadata": {},
   "outputs": [],
   "source": [
    "# Function that outputs the cleaned csv file\n",
    "def output_csv():\n",
    "    audio_book.to_csv('project_dataset_clean.csv ', index=False)"
   ]
  },
  {
   "cell_type": "code",
   "execution_count": 75,
   "id": "ca23dd8d",
   "metadata": {},
   "outputs": [],
   "source": [
    "# Pipeline function that executes the entire cleaning process sequentially\n",
    "def pipeline():\n",
    "    author_clean()\n",
    "    narrator_clean()\n",
    "    minutes()\n",
    "    release_date()\n",
    "    rating()\n",
    "    no_of_rating()\n",
    "    price_to_float()\n",
    "    output_csv()"
   ]
  },
  {
   "cell_type": "code",
   "execution_count": 76,
   "id": "9250a4c6",
   "metadata": {},
   "outputs": [],
   "source": [
    "if __name__ == \"__main__\":\n",
    "    pipeline()"
   ]
  }
 ],
 "metadata": {
  "kernelspec": {
   "display_name": "Python 3 (ipykernel)",
   "language": "python",
   "name": "python3"
  },
  "language_info": {
   "codemirror_mode": {
    "name": "ipython",
    "version": 3
   },
   "file_extension": ".py",
   "mimetype": "text/x-python",
   "name": "python",
   "nbconvert_exporter": "python",
   "pygments_lexer": "ipython3",
   "version": "3.10.9"
  }
 },
 "nbformat": 4,
 "nbformat_minor": 5
}
